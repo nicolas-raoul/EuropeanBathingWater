{
 "cells": [
  {
   "cell_type": "markdown",
   "id": "4a0e87c4",
   "metadata": {},
   "source": [
    "Get all Bathing Waters in this project from Wikidata and checks if they are connected to an OSM object using an [API](https://osm.wikidata.link/tagged)\n",
    "\n",
    "* The project: European bathwaters [GITHUB](https://github.com/salgo60/EuropeanBathingWater/blob/main/README.md) / Wikidata\n",
    "  * [Wikidata EBath](https://www.wikidata.org/wiki/Wikidata:WikiProject_European_Bath_Waters)\n",
    "* this [Notebook](https://github.com/salgo60/EuropeanBathingWater/blob/main/Jupyter/OSM_Wikidata_EuropeanBathwater.ipynb)\n",
    "\n",
    "* API [Wikidata to OpenStreetMap](https://osm.wikidata.link/tagged)\n",
    "  * eg. [https://osm.wikidata.link/tagged/api/item/Q106708773](https://osm.wikidata.link/tagged/api/item/Q106708773)\n",
    "\n",
    "* Another tool [osm.wikidata.link](https://osm.wikidata.link/search)\n",
    "* OSM Sparql -> [users who has added most osmt:leisure \"swimming_area\"](https://tinyurl.com/ygj5strx) \n",
    "\n",
    "  \n",
    "Status:  \n",
    "\n",
    "\n",
    "\n",
    "| Date | Bathing waters | no WD - OSM | Lake | no WD - OSM |nature reserve | no WD - OSM  |\n",
    "| ------------- |:-------------:|:-------------:|:-------------:|:-------------:|:-------------:| -----:|\n",
    "| 20210614 | 3313 | 2163 | 1314 | 178 | 216 | 15\n",
    "| 20210616 | 3333 | 2172 | 1324 | 179 | 216 | 15\n",
    "\n",
    "TODO: \n",
    "* "
   ]
  },
  {
   "cell_type": "code",
   "execution_count": 1,
   "id": "b20809ea",
   "metadata": {},
   "outputs": [
    {
     "name": "stdout",
     "output_type": "stream",
     "text": [
      "Last run:  2021-06-16 12:07:03.415758\n"
     ]
    }
   ],
   "source": [
    "from datetime import datetime\n",
    "start_time  = datetime.now()\n",
    "print(\"Last run: \", start_time)"
   ]
  },
  {
   "cell_type": "code",
   "execution_count": 2,
   "id": "903ccc82",
   "metadata": {},
   "outputs": [],
   "source": [
    "import pandas as pd\n"
   ]
  },
  {
   "cell_type": "code",
   "execution_count": 3,
   "id": "1f3346e9",
   "metadata": {},
   "outputs": [
    {
     "data": {
      "text/plain": [
       "(3333, 6)"
      ]
     },
     "execution_count": 3,
     "metadata": {},
     "output_type": "execute_result"
    }
   ],
   "source": [
    "#\n",
    "# pip install sparqlwrapper\n",
    "# https://rdflib.github.io/sparqlwrapper/\n",
    "\n",
    "import sys,json\n",
    "from SPARQLWrapper import SPARQLWrapper, JSON\n",
    "\n",
    "endpoint_url = \"https://query.wikidata.org/sparql\"\n",
    " \n",
    "# https://w.wiki/3UnN\n",
    "queryBath = \"\"\"SELECT (REPLACE(STR(?nodeBath), \".*Q\", \"Q\") AS ?qbathid) ?nodeBathLabel ?bathingWaterIdentifier \n",
    "(REPLACE(STR(?nodeWater), \".*Q\", \"Q\") AS ?qlakeid) ?nodeWaterLabel WHERE {\n",
    "  VALUES ?nodeProjBath {wd:Q107096245 wd:Q106774536}\n",
    "  ?nodeBath wdt:P6104 ?nodeProjBath.\n",
    "  minus   { ?nodeBath wikibase:propertyType ?type} # just bathwater not properties\n",
    "  OPTIONAL {?nodeBath wdt:P9616 ?bathingWaterIdentifier}\n",
    "  OPTIONAL {\n",
    "    ?nodeBath wdt:P206 ?nodeWater.\n",
    "  }\n",
    "\n",
    "  SERVICE wikibase:label { bd:serviceParam wikibase:language \"sv,en\". }\n",
    "}\n",
    "ORDER BY (?nodeBathLabel)\"\"\"\n",
    "\n",
    "\n",
    "def get_sparql_dataframe(endpoint_url, query):\n",
    "    \"\"\"\n",
    "    Helper function to convert SPARQL results into a Pandas data frame.\n",
    "    \"\"\"\n",
    "    user_agent = \"salgo60/%s.%s\" % (sys.version_info[0], sys.version_info[1])\n",
    " \n",
    "    sparql = SPARQLWrapper(endpoint_url, agent=user_agent)\n",
    "    sparql.setQuery(query)\n",
    "    sparql.setReturnFormat(JSON)\n",
    "    result = sparql.query()\n",
    "\n",
    "    processed_results = json.load(result.response)\n",
    "    cols = processed_results['head']['vars']\n",
    "\n",
    "    out = []\n",
    "    for row in processed_results['results']['bindings']:\n",
    "        item = []\n",
    "        for c in cols:\n",
    "            item.append(row.get(c, {}).get('value'))\n",
    "        out.append(item)\n",
    "\n",
    "    return pd.DataFrame(out, columns=cols)\n",
    "\n",
    "WDBath = get_sparql_dataframe(endpoint_url, queryBath)\n",
    "WDBath[\"Source\"] = \"WD\"     \n",
    "WDBath.shape"
   ]
  },
  {
   "cell_type": "code",
   "execution_count": 4,
   "id": "f7c09c8c",
   "metadata": {},
   "outputs": [
    {
     "data": {
      "text/html": [
       "<div>\n",
       "<style scoped>\n",
       "    .dataframe tbody tr th:only-of-type {\n",
       "        vertical-align: middle;\n",
       "    }\n",
       "\n",
       "    .dataframe tbody tr th {\n",
       "        vertical-align: top;\n",
       "    }\n",
       "\n",
       "    .dataframe thead th {\n",
       "        text-align: right;\n",
       "    }\n",
       "</style>\n",
       "<table border=\"1\" class=\"dataframe\">\n",
       "  <thead>\n",
       "    <tr style=\"text-align: right;\">\n",
       "      <th></th>\n",
       "      <th>qbathid</th>\n",
       "      <th>nodeBathLabel</th>\n",
       "      <th>bathingWaterIdentifier</th>\n",
       "      <th>qlakeid</th>\n",
       "      <th>nodeWaterLabel</th>\n",
       "      <th>Source</th>\n",
       "    </tr>\n",
       "  </thead>\n",
       "  <tbody>\n",
       "    <tr>\n",
       "      <th>0</th>\n",
       "      <td>Q107098707</td>\n",
       "      <td>Q107098707</td>\n",
       "      <td>DENI_PR_TK25_3124_01</td>\n",
       "      <td>None</td>\n",
       "      <td>None</td>\n",
       "      <td>WD</td>\n",
       "    </tr>\n",
       "    <tr>\n",
       "      <th>1</th>\n",
       "      <td>Q107152077</td>\n",
       "      <td>Q107152077</td>\n",
       "      <td>GRBW029116049101</td>\n",
       "      <td>None</td>\n",
       "      <td>None</td>\n",
       "      <td>WD</td>\n",
       "    </tr>\n",
       "    <tr>\n",
       "      <th>2</th>\n",
       "      <td>Q107152185</td>\n",
       "      <td>Q107152185</td>\n",
       "      <td>GRBW029116038101</td>\n",
       "      <td>None</td>\n",
       "      <td>None</td>\n",
       "      <td>WD</td>\n",
       "    </tr>\n",
       "    <tr>\n",
       "      <th>3</th>\n",
       "      <td>Q12304289</td>\n",
       "      <td>Q12304289</td>\n",
       "      <td>DKBW687</td>\n",
       "      <td>Q10726446</td>\n",
       "      <td>Ålbækbukten</td>\n",
       "      <td>WD</td>\n",
       "    </tr>\n",
       "    <tr>\n",
       "      <th>4</th>\n",
       "      <td>Q12316102</td>\n",
       "      <td>Q12316102</td>\n",
       "      <td>DKBW26</td>\n",
       "      <td>Q104662</td>\n",
       "      <td>Öresund</td>\n",
       "      <td>WD</td>\n",
       "    </tr>\n",
       "  </tbody>\n",
       "</table>\n",
       "</div>"
      ],
      "text/plain": [
       "      qbathid nodeBathLabel bathingWaterIdentifier    qlakeid nodeWaterLabel  \\\n",
       "0  Q107098707    Q107098707   DENI_PR_TK25_3124_01       None           None   \n",
       "1  Q107152077    Q107152077       GRBW029116049101       None           None   \n",
       "2  Q107152185    Q107152185       GRBW029116038101       None           None   \n",
       "3   Q12304289     Q12304289                DKBW687  Q10726446    Ålbækbukten   \n",
       "4   Q12316102     Q12316102                 DKBW26    Q104662        Öresund   \n",
       "\n",
       "  Source  \n",
       "0     WD  \n",
       "1     WD  \n",
       "2     WD  \n",
       "3     WD  \n",
       "4     WD  "
      ]
     },
     "execution_count": 4,
     "metadata": {},
     "output_type": "execute_result"
    }
   ],
   "source": [
    "WDBath.head()"
   ]
  },
  {
   "cell_type": "code",
   "execution_count": 5,
   "id": "518ba6fe",
   "metadata": {},
   "outputs": [
    {
     "name": "stderr",
     "output_type": "stream",
     "text": [
      "100%|██████████| 3333/3333 [05:24<00:00, 10.27it/s]"
     ]
    },
    {
     "name": "stdout",
     "output_type": "stream",
     "text": [
      "3333\n"
     ]
    },
    {
     "name": "stderr",
     "output_type": "stream",
     "text": [
      "\n"
     ]
    }
   ],
   "source": [
    "import urllib3, json\n",
    "from tqdm import tqdm\n",
    "http = urllib3.PoolManager()\n",
    "\n",
    "listBath = []\n",
    "#for WD, row in WDBath.iterrows():\n",
    "for WD, row in tqdm(WDBath.iterrows(), total=WDBath.shape[0]):\n",
    "    #print(row[\"qbathid\"] ) \n",
    "    url = \"https://osm.wikidata.link/tagged/api/item/\" + row[\"qbathid\"] \n",
    "    \n",
    "    new_item = dict()\n",
    "    new_item['wikidata'] = row[\"qbathid\"] \n",
    "#    new_item['coord'] = row[\"coord\"] \n",
    "    try:\n",
    "        r = http.request('GET', url) \n",
    "        data = json.loads(r.data.decode('utf-8'))\n",
    "    except:\n",
    "        print (r.status, url)\n",
    "#    print (r.status)\n",
    "    try:\n",
    "        #print (\"OSM \", data[\"osm\"], \"Type: \", type(data[\"osm\"]))\n",
    "        #print (\"ID: \", data[\"osm\"][0][\"id\"])\n",
    "        osmid = data[\"osm\"][0][\"id\"]        \n",
    "    except:\n",
    "        #print (\"error\")\n",
    "        osmid =\"\"\n",
    "    new_item['osmid'] = osmid \n",
    "    listBath.append(new_item)\n",
    "print (len(listBath))"
   ]
  },
  {
   "cell_type": "code",
   "execution_count": 6,
   "id": "97bb95a8",
   "metadata": {},
   "outputs": [
    {
     "data": {
      "text/plain": [
       "(3333, 3)"
      ]
     },
     "execution_count": 6,
     "metadata": {},
     "output_type": "execute_result"
    }
   ],
   "source": [
    "OSMtot = pd.DataFrame(listBath,\n",
    "                  columns=['wikidata','coord','osmid'])\n",
    "OSMtot.shape\n"
   ]
  },
  {
   "cell_type": "code",
   "execution_count": 7,
   "id": "a36b2560",
   "metadata": {},
   "outputs": [
    {
     "data": {
      "text/html": [
       "<div>\n",
       "<style scoped>\n",
       "    .dataframe tbody tr th:only-of-type {\n",
       "        vertical-align: middle;\n",
       "    }\n",
       "\n",
       "    .dataframe tbody tr th {\n",
       "        vertical-align: top;\n",
       "    }\n",
       "\n",
       "    .dataframe thead th {\n",
       "        text-align: right;\n",
       "    }\n",
       "</style>\n",
       "<table border=\"1\" class=\"dataframe\">\n",
       "  <thead>\n",
       "    <tr style=\"text-align: right;\">\n",
       "      <th></th>\n",
       "      <th>wikidata</th>\n",
       "      <th>coord</th>\n",
       "      <th>osmid</th>\n",
       "    </tr>\n",
       "  </thead>\n",
       "  <tbody>\n",
       "    <tr>\n",
       "      <th>0</th>\n",
       "      <td>Q107098707</td>\n",
       "      <td>NaN</td>\n",
       "      <td></td>\n",
       "    </tr>\n",
       "    <tr>\n",
       "      <th>1</th>\n",
       "      <td>Q107152077</td>\n",
       "      <td>NaN</td>\n",
       "      <td></td>\n",
       "    </tr>\n",
       "    <tr>\n",
       "      <th>2</th>\n",
       "      <td>Q107152185</td>\n",
       "      <td>NaN</td>\n",
       "      <td></td>\n",
       "    </tr>\n",
       "    <tr>\n",
       "      <th>3</th>\n",
       "      <td>Q12304289</td>\n",
       "      <td>NaN</td>\n",
       "      <td>2214457035</td>\n",
       "    </tr>\n",
       "    <tr>\n",
       "      <th>4</th>\n",
       "      <td>Q12316102</td>\n",
       "      <td>NaN</td>\n",
       "      <td></td>\n",
       "    </tr>\n",
       "    <tr>\n",
       "      <th>5</th>\n",
       "      <td>Q12330411</td>\n",
       "      <td>NaN</td>\n",
       "      <td></td>\n",
       "    </tr>\n",
       "    <tr>\n",
       "      <th>6</th>\n",
       "      <td>Q12335052</td>\n",
       "      <td>NaN</td>\n",
       "      <td></td>\n",
       "    </tr>\n",
       "    <tr>\n",
       "      <th>7</th>\n",
       "      <td>Q1566473</td>\n",
       "      <td>NaN</td>\n",
       "      <td>1446589</td>\n",
       "    </tr>\n",
       "    <tr>\n",
       "      <th>8</th>\n",
       "      <td>Q17489404</td>\n",
       "      <td>NaN</td>\n",
       "      <td>6956526</td>\n",
       "    </tr>\n",
       "    <tr>\n",
       "      <th>9</th>\n",
       "      <td>Q2933430</td>\n",
       "      <td>NaN</td>\n",
       "      <td></td>\n",
       "    </tr>\n",
       "  </tbody>\n",
       "</table>\n",
       "</div>"
      ],
      "text/plain": [
       "     wikidata  coord       osmid\n",
       "0  Q107098707    NaN            \n",
       "1  Q107152077    NaN            \n",
       "2  Q107152185    NaN            \n",
       "3   Q12304289    NaN  2214457035\n",
       "4   Q12316102    NaN            \n",
       "5   Q12330411    NaN            \n",
       "6   Q12335052    NaN            \n",
       "7    Q1566473    NaN     1446589\n",
       "8   Q17489404    NaN     6956526\n",
       "9    Q2933430    NaN            "
      ]
     },
     "execution_count": 7,
     "metadata": {},
     "output_type": "execute_result"
    }
   ],
   "source": [
    "pd.set_option('max_colwidth', 400)\n",
    "OSMtot.head(10)"
   ]
  },
  {
   "cell_type": "code",
   "execution_count": 8,
   "id": "5073b2d5",
   "metadata": {},
   "outputs": [
    {
     "data": {
      "text/plain": [
       "(2185, 3)"
      ]
     },
     "execution_count": 8,
     "metadata": {},
     "output_type": "execute_result"
    }
   ],
   "source": [
    "#OSMempty = OSMtot.osmid.notnull()\n",
    "OSMtot[(OSMtot['osmid']==\"\")].shape"
   ]
  },
  {
   "cell_type": "code",
   "execution_count": 9,
   "id": "131b6b52",
   "metadata": {},
   "outputs": [],
   "source": [
    "OSMEmpty =OSMtot[(OSMtot['osmid']==\"\")]"
   ]
  },
  {
   "cell_type": "code",
   "execution_count": 10,
   "id": "49eb18cb",
   "metadata": {},
   "outputs": [
    {
     "data": {
      "text/plain": [
       "(2185, 3)"
      ]
     },
     "execution_count": 10,
     "metadata": {},
     "output_type": "execute_result"
    }
   ],
   "source": [
    "OSMEmpty.shape"
   ]
  },
  {
   "cell_type": "code",
   "execution_count": 11,
   "id": "d5ce300a",
   "metadata": {},
   "outputs": [
    {
     "data": {
      "text/html": [
       "<div>\n",
       "<style scoped>\n",
       "    .dataframe tbody tr th:only-of-type {\n",
       "        vertical-align: middle;\n",
       "    }\n",
       "\n",
       "    .dataframe tbody tr th {\n",
       "        vertical-align: top;\n",
       "    }\n",
       "\n",
       "    .dataframe thead th {\n",
       "        text-align: right;\n",
       "    }\n",
       "</style>\n",
       "<table border=\"1\" class=\"dataframe\">\n",
       "  <thead>\n",
       "    <tr style=\"text-align: right;\">\n",
       "      <th></th>\n",
       "      <th>wikidata</th>\n",
       "      <th>coord</th>\n",
       "      <th>osmid</th>\n",
       "    </tr>\n",
       "  </thead>\n",
       "  <tbody>\n",
       "    <tr>\n",
       "      <th>0</th>\n",
       "      <td>Q107098707</td>\n",
       "      <td>NaN</td>\n",
       "      <td></td>\n",
       "    </tr>\n",
       "    <tr>\n",
       "      <th>1</th>\n",
       "      <td>Q107152077</td>\n",
       "      <td>NaN</td>\n",
       "      <td></td>\n",
       "    </tr>\n",
       "    <tr>\n",
       "      <th>2</th>\n",
       "      <td>Q107152185</td>\n",
       "      <td>NaN</td>\n",
       "      <td></td>\n",
       "    </tr>\n",
       "    <tr>\n",
       "      <th>4</th>\n",
       "      <td>Q12316102</td>\n",
       "      <td>NaN</td>\n",
       "      <td></td>\n",
       "    </tr>\n",
       "    <tr>\n",
       "      <th>5</th>\n",
       "      <td>Q12330411</td>\n",
       "      <td>NaN</td>\n",
       "      <td></td>\n",
       "    </tr>\n",
       "  </tbody>\n",
       "</table>\n",
       "</div>"
      ],
      "text/plain": [
       "     wikidata  coord osmid\n",
       "0  Q107098707    NaN      \n",
       "1  Q107152077    NaN      \n",
       "2  Q107152185    NaN      \n",
       "4   Q12316102    NaN      \n",
       "5   Q12330411    NaN      "
      ]
     },
     "execution_count": 11,
     "metadata": {},
     "output_type": "execute_result"
    }
   ],
   "source": [
    "OSMEmpty.to_csv(\"WD - OSM Bathwaters missing.csv\")\n",
    "\n",
    "OSMEmpty.head()"
   ]
  },
  {
   "cell_type": "markdown",
   "id": "1d55ba15",
   "metadata": {},
   "source": [
    "### Check connected water"
   ]
  },
  {
   "cell_type": "code",
   "execution_count": 12,
   "id": "27de3575",
   "metadata": {},
   "outputs": [
    {
     "data": {
      "text/plain": [
       "(1324, 8)"
      ]
     },
     "execution_count": 12,
     "metadata": {},
     "output_type": "execute_result"
    }
   ],
   "source": [
    "querySeaMinus_Kust = \"\"\"SELECT (REPLACE(STR(?nodeBath), \".*Q\", \"Q\") AS ?qbathid) ?nodeBathLabel ?bathingWaterIdentifier ?SJOID\n",
    "(REPLACE(STR(?nodeWater), \".*Q\", \"Q\") AS ?qlakeid) ?nodeWaterLabel ?coord WHERE {\n",
    "  VALUES ?nodeProjBath {wd:Q107096245 wd:Q106774536}\n",
    "  ?nodeBath wdt:P6104 ?nodeProjBath.\n",
    "  minus   { ?nodeBath wikibase:propertyType ?type} # just bathwater not properties\n",
    "\n",
    "  OPTIONAL {?nodeBath wdt:P9616 ?bathingWaterIdentifier}\n",
    "  OPTIONAL { ?nodeBath wdt:P625 ?coord. }\n",
    "   {\n",
    "    ?nodeBath wdt:P206 ?nodeWater.\n",
    "    OPTIONAL { ?nodeWater wdt:P761 ?SJOID. }\n",
    "    minus {?nodeWater wdt:P31 wd:Q16615865}\n",
    "  }\n",
    "  SERVICE wikibase:label { bd:serviceParam wikibase:language \"sv,en\". }\n",
    "}\n",
    "ORDER BY (?nodeBathLabel)\"\"\"\n",
    "WDSea = get_sparql_dataframe(endpoint_url, querySeaMinus_Kust)\n",
    "WDSea[\"Source\"] = \"WD\"     \n",
    "WDSea.shape"
   ]
  },
  {
   "cell_type": "code",
   "execution_count": 13,
   "id": "74ec57bf",
   "metadata": {},
   "outputs": [
    {
     "data": {
      "text/html": [
       "<div>\n",
       "<style scoped>\n",
       "    .dataframe tbody tr th:only-of-type {\n",
       "        vertical-align: middle;\n",
       "    }\n",
       "\n",
       "    .dataframe tbody tr th {\n",
       "        vertical-align: top;\n",
       "    }\n",
       "\n",
       "    .dataframe thead th {\n",
       "        text-align: right;\n",
       "    }\n",
       "</style>\n",
       "<table border=\"1\" class=\"dataframe\">\n",
       "  <thead>\n",
       "    <tr style=\"text-align: right;\">\n",
       "      <th></th>\n",
       "      <th>qbathid</th>\n",
       "      <th>nodeBathLabel</th>\n",
       "      <th>bathingWaterIdentifier</th>\n",
       "      <th>SJOID</th>\n",
       "      <th>qlakeid</th>\n",
       "      <th>nodeWaterLabel</th>\n",
       "      <th>coord</th>\n",
       "      <th>Source</th>\n",
       "    </tr>\n",
       "  </thead>\n",
       "  <tbody>\n",
       "    <tr>\n",
       "      <th>0</th>\n",
       "      <td>Q12304289</td>\n",
       "      <td>Q12304289</td>\n",
       "      <td>DKBW687</td>\n",
       "      <td>None</td>\n",
       "      <td>Q10726446</td>\n",
       "      <td>Ålbækbukten</td>\n",
       "      <td>Point(10.4722 57.5114)</td>\n",
       "      <td>WD</td>\n",
       "    </tr>\n",
       "    <tr>\n",
       "      <th>1</th>\n",
       "      <td>Q12316102</td>\n",
       "      <td>Q12316102</td>\n",
       "      <td>DKBW26</td>\n",
       "      <td>None</td>\n",
       "      <td>Q104662</td>\n",
       "      <td>Öresund</td>\n",
       "      <td>Point(12.5822 55.7329)</td>\n",
       "      <td>WD</td>\n",
       "    </tr>\n",
       "    <tr>\n",
       "      <th>2</th>\n",
       "      <td>Q12330411</td>\n",
       "      <td>Q12330411</td>\n",
       "      <td>DKBW96</td>\n",
       "      <td>None</td>\n",
       "      <td>Q12326358</td>\n",
       "      <td>Masned Sund</td>\n",
       "      <td>Point(11.8725 55.0056)</td>\n",
       "      <td>WD</td>\n",
       "    </tr>\n",
       "    <tr>\n",
       "      <th>3</th>\n",
       "      <td>Q12335052</td>\n",
       "      <td>Q12335052</td>\n",
       "      <td>DKBW219</td>\n",
       "      <td>None</td>\n",
       "      <td>Q3801</td>\n",
       "      <td>Limfjorden</td>\n",
       "      <td>Point(8.5925 56.6072)</td>\n",
       "      <td>WD</td>\n",
       "    </tr>\n",
       "    <tr>\n",
       "      <th>4</th>\n",
       "      <td>Q17489404</td>\n",
       "      <td>Q17489404</td>\n",
       "      <td>DKBW908</td>\n",
       "      <td>None</td>\n",
       "      <td>Q1189156</td>\n",
       "      <td>Jammerbugten</td>\n",
       "      <td>Point(9.5813 57.2564)</td>\n",
       "      <td>WD</td>\n",
       "    </tr>\n",
       "  </tbody>\n",
       "</table>\n",
       "</div>"
      ],
      "text/plain": [
       "     qbathid nodeBathLabel bathingWaterIdentifier SJOID    qlakeid  \\\n",
       "0  Q12304289     Q12304289                DKBW687  None  Q10726446   \n",
       "1  Q12316102     Q12316102                 DKBW26  None    Q104662   \n",
       "2  Q12330411     Q12330411                 DKBW96  None  Q12326358   \n",
       "3  Q12335052     Q12335052                DKBW219  None      Q3801   \n",
       "4  Q17489404     Q17489404                DKBW908  None   Q1189156   \n",
       "\n",
       "  nodeWaterLabel                   coord Source  \n",
       "0    Ålbækbukten  Point(10.4722 57.5114)     WD  \n",
       "1        Öresund  Point(12.5822 55.7329)     WD  \n",
       "2    Masned Sund  Point(11.8725 55.0056)     WD  \n",
       "3     Limfjorden   Point(8.5925 56.6072)     WD  \n",
       "4   Jammerbugten   Point(9.5813 57.2564)     WD  "
      ]
     },
     "execution_count": 13,
     "metadata": {},
     "output_type": "execute_result"
    }
   ],
   "source": [
    "WDSea.head()"
   ]
  },
  {
   "cell_type": "code",
   "execution_count": 14,
   "id": "40ab8b07",
   "metadata": {},
   "outputs": [
    {
     "name": "stderr",
     "output_type": "stream",
     "text": [
      "100%|██████████| 1324/1324 [02:13<00:00,  9.92it/s]"
     ]
    },
    {
     "name": "stdout",
     "output_type": "stream",
     "text": [
      "1324\n"
     ]
    },
    {
     "name": "stderr",
     "output_type": "stream",
     "text": [
      "\n"
     ]
    }
   ],
   "source": [
    "listSea = []\n",
    "#for WD, row in WDBath.iterrows():\n",
    "for WD, row in tqdm(WDSea.iterrows(), total=WDSea.shape[0]):\n",
    "    #print(row[\"qlakeid\"] ) \n",
    "    url = \"https://osm.wikidata.link/tagged/api/item/\" + row[\"qlakeid\"] \n",
    "    \n",
    "    new_item = dict()\n",
    "    new_item['wikidata'] = row[\"qlakeid\"] \n",
    "    r = http.request('GET', url) \n",
    "    data = json.loads(r.data.decode('utf-8'))\n",
    "    try:\n",
    "        #print (\"ID: \", data[\"osm\"][0][\"id\"])\n",
    "\n",
    "        osmid = data[\"osm\"][0][\"id\"] \n",
    "        \n",
    "    except:\n",
    "        #print (\"error\")\n",
    "        osmid =\"\"\n",
    "    new_item['osmid'] = osmid \n",
    "    listSea.append(new_item)\n",
    "print (len(listSea))\n",
    "OSMSeatot = pd.DataFrame(listSea,\n",
    "                  columns=['wikidata','osmid'])"
   ]
  },
  {
   "cell_type": "code",
   "execution_count": 15,
   "id": "d0e3c014",
   "metadata": {},
   "outputs": [
    {
     "data": {
      "text/html": [
       "<div>\n",
       "<style scoped>\n",
       "    .dataframe tbody tr th:only-of-type {\n",
       "        vertical-align: middle;\n",
       "    }\n",
       "\n",
       "    .dataframe tbody tr th {\n",
       "        vertical-align: top;\n",
       "    }\n",
       "\n",
       "    .dataframe thead th {\n",
       "        text-align: right;\n",
       "    }\n",
       "</style>\n",
       "<table border=\"1\" class=\"dataframe\">\n",
       "  <thead>\n",
       "    <tr style=\"text-align: right;\">\n",
       "      <th></th>\n",
       "      <th>wikidata</th>\n",
       "      <th>osmid</th>\n",
       "    </tr>\n",
       "  </thead>\n",
       "  <tbody>\n",
       "    <tr>\n",
       "      <th>0</th>\n",
       "      <td>Q10726446</td>\n",
       "      <td>4681567</td>\n",
       "    </tr>\n",
       "    <tr>\n",
       "      <th>1</th>\n",
       "      <td>Q104662</td>\n",
       "      <td>486348349</td>\n",
       "    </tr>\n",
       "    <tr>\n",
       "      <th>2</th>\n",
       "      <td>Q12326358</td>\n",
       "      <td>592044072</td>\n",
       "    </tr>\n",
       "    <tr>\n",
       "      <th>3</th>\n",
       "      <td>Q3801</td>\n",
       "      <td>8312667</td>\n",
       "    </tr>\n",
       "    <tr>\n",
       "      <th>4</th>\n",
       "      <td>Q1189156</td>\n",
       "      <td>4681568</td>\n",
       "    </tr>\n",
       "  </tbody>\n",
       "</table>\n",
       "</div>"
      ],
      "text/plain": [
       "    wikidata      osmid\n",
       "0  Q10726446    4681567\n",
       "1    Q104662  486348349\n",
       "2  Q12326358  592044072\n",
       "3      Q3801    8312667\n",
       "4   Q1189156    4681568"
      ]
     },
     "execution_count": 15,
     "metadata": {},
     "output_type": "execute_result"
    }
   ],
   "source": [
    "OSMSeatot.head()"
   ]
  },
  {
   "cell_type": "code",
   "execution_count": 16,
   "id": "00e1610c",
   "metadata": {},
   "outputs": [
    {
     "data": {
      "text/plain": [
       "(225, 2)"
      ]
     },
     "execution_count": 16,
     "metadata": {},
     "output_type": "execute_result"
    }
   ],
   "source": [
    "OSMSeaEmpty=OSMSeatot[(OSMSeatot['osmid']==\"\")]\n",
    "# OSMSeaEmpty.wikidata.unique()  \n",
    "#pd.Series(OSMSeaEmpty.wikidata.unique().sort(),dtype=pd.StringDtype()).to_csv(\"WD - OSM Vatten saknas.csv\")\n",
    "pd.Series(OSMSeaEmpty.wikidata.unique()).to_csv(\"WD - OSM Watten missing.csv\")\n",
    "\n",
    "OSMSeaEmpty.shape\n"
   ]
  },
  {
   "cell_type": "markdown",
   "id": "6d65b891",
   "metadata": {},
   "source": [
    "# Check Nature reserve"
   ]
  },
  {
   "cell_type": "code",
   "execution_count": 17,
   "id": "0a55f57d",
   "metadata": {},
   "outputs": [
    {
     "data": {
      "text/plain": [
       "(216, 6)"
      ]
     },
     "execution_count": 17,
     "metadata": {},
     "output_type": "execute_result"
    }
   ],
   "source": [
    "# https://w.wiki/3N6L\n",
    "queryNature = \"\"\"SELECT (REPLACE(STR(?nodeBath), \".*Q\", \"Q\") AS ?qbathid) ?nodeBathLabel ?bathingWaterIdentifier ?Naturreg\n",
    "(REPLACE(STR(?naturreservat), \".*Q\", \"Q\") AS ?naturreservatID)  WHERE {\n",
    "  VALUES ?nodeProjBath {wd:Q107096245 wd:Q106774536}\n",
    "  ?nodeBath wdt:P6104 ?nodeProjBath.\n",
    "  OPTIONAL {?nodeBath wdt:P9616 ?bathingWaterIdentifier}\n",
    "\n",
    "  ?nodeBath wdt:P3018 ?naturreservat.\n",
    "  ?naturreservat wdt:P3613 ?Naturreg. # --> reservat\n",
    "  SERVICE wikibase:label { bd:serviceParam wikibase:language \"sv,en\". }\n",
    "}\n",
    "\"\"\"\n",
    "WDNature = get_sparql_dataframe(endpoint_url, queryNature)\n",
    "WDNature[\"Source\"] = \"WD\"     \n",
    "WDNature.shape"
   ]
  },
  {
   "cell_type": "code",
   "execution_count": 18,
   "id": "df33c5f1",
   "metadata": {},
   "outputs": [
    {
     "data": {
      "text/html": [
       "<div>\n",
       "<style scoped>\n",
       "    .dataframe tbody tr th:only-of-type {\n",
       "        vertical-align: middle;\n",
       "    }\n",
       "\n",
       "    .dataframe tbody tr th {\n",
       "        vertical-align: top;\n",
       "    }\n",
       "\n",
       "    .dataframe thead th {\n",
       "        text-align: right;\n",
       "    }\n",
       "</style>\n",
       "<table border=\"1\" class=\"dataframe\">\n",
       "  <thead>\n",
       "    <tr style=\"text-align: right;\">\n",
       "      <th></th>\n",
       "      <th>qbathid</th>\n",
       "      <th>nodeBathLabel</th>\n",
       "      <th>bathingWaterIdentifier</th>\n",
       "      <th>Naturreg</th>\n",
       "      <th>naturreservatID</th>\n",
       "      <th>Source</th>\n",
       "    </tr>\n",
       "  </thead>\n",
       "  <tbody>\n",
       "    <tr>\n",
       "      <th>0</th>\n",
       "      <td>Q106707117</td>\n",
       "      <td>Larödbaden</td>\n",
       "      <td>SE0441283000000317</td>\n",
       "      <td>2045268</td>\n",
       "      <td>Q60732601</td>\n",
       "      <td>WD</td>\n",
       "    </tr>\n",
       "    <tr>\n",
       "      <th>1</th>\n",
       "      <td>Q106707119</td>\n",
       "      <td>Domsten</td>\n",
       "      <td>SE0441283000000319</td>\n",
       "      <td>2030989</td>\n",
       "      <td>Q29579930</td>\n",
       "      <td>WD</td>\n",
       "    </tr>\n",
       "    <tr>\n",
       "      <th>2</th>\n",
       "      <td>Q106707120</td>\n",
       "      <td>Utvälinges badplats</td>\n",
       "      <td>SE0441283000000320</td>\n",
       "      <td>2042687</td>\n",
       "      <td>Q10659042</td>\n",
       "      <td>WD</td>\n",
       "    </tr>\n",
       "    <tr>\n",
       "      <th>3</th>\n",
       "      <td>Q106707127</td>\n",
       "      <td>Gyllebosjöns badplats</td>\n",
       "      <td>SE0441291000000329</td>\n",
       "      <td>2014529</td>\n",
       "      <td>Q10511301</td>\n",
       "      <td>WD</td>\n",
       "    </tr>\n",
       "    <tr>\n",
       "      <th>4</th>\n",
       "      <td>Q106707141</td>\n",
       "      <td>badplats Ryssvägen</td>\n",
       "      <td>SE0441286000000348</td>\n",
       "      <td>2001805</td>\n",
       "      <td>Q27968545</td>\n",
       "      <td>WD</td>\n",
       "    </tr>\n",
       "  </tbody>\n",
       "</table>\n",
       "</div>"
      ],
      "text/plain": [
       "      qbathid          nodeBathLabel bathingWaterIdentifier Naturreg  \\\n",
       "0  Q106707117             Larödbaden     SE0441283000000317  2045268   \n",
       "1  Q106707119                Domsten     SE0441283000000319  2030989   \n",
       "2  Q106707120    Utvälinges badplats     SE0441283000000320  2042687   \n",
       "3  Q106707127  Gyllebosjöns badplats     SE0441291000000329  2014529   \n",
       "4  Q106707141     badplats Ryssvägen     SE0441286000000348  2001805   \n",
       "\n",
       "  naturreservatID Source  \n",
       "0       Q60732601     WD  \n",
       "1       Q29579930     WD  \n",
       "2       Q10659042     WD  \n",
       "3       Q10511301     WD  \n",
       "4       Q27968545     WD  "
      ]
     },
     "execution_count": 18,
     "metadata": {},
     "output_type": "execute_result"
    }
   ],
   "source": [
    "WDNature.head()"
   ]
  },
  {
   "cell_type": "code",
   "execution_count": 19,
   "id": "f5a04cfa",
   "metadata": {},
   "outputs": [
    {
     "name": "stderr",
     "output_type": "stream",
     "text": [
      "100%|██████████| 216/216 [00:19<00:00, 11.03it/s]"
     ]
    },
    {
     "name": "stdout",
     "output_type": "stream",
     "text": [
      "216\n"
     ]
    },
    {
     "name": "stderr",
     "output_type": "stream",
     "text": [
      "\n"
     ]
    }
   ],
   "source": [
    "listNature = []\n",
    "for WD, row in tqdm(WDNature.iterrows(), total=WDNature.shape[0]):\n",
    "    #print(row[\"naturreservatID\"] ) \n",
    "    url = \"https://osm.wikidata.link/tagged/api/item/\" + row[\"naturreservatID\"] \n",
    "    \n",
    "    new_item = dict()\n",
    "    new_item['wikidata'] = row[\"naturreservatID\"] \n",
    "    r = http.request('GET', url) \n",
    "    data = json.loads(r.data.decode('utf-8'))\n",
    "    try:\n",
    "        #print (\"ID: \", data[\"osm\"][0][\"id\"])\n",
    "        osmid = data[\"osm\"][0][\"id\"] \n",
    "        \n",
    "    except:\n",
    "        #print (\"error\")\n",
    "        osmid =\"\"\n",
    "    new_item['osmid'] = osmid \n",
    "    listNature.append(new_item)\n",
    "print (len(listNature))\n",
    "OSMNature = pd.DataFrame(listNature,\n",
    "                  columns=['wikidata','osmid'])"
   ]
  },
  {
   "cell_type": "code",
   "execution_count": 20,
   "id": "2aafca1a",
   "metadata": {},
   "outputs": [
    {
     "data": {
      "text/html": [
       "<div>\n",
       "<style scoped>\n",
       "    .dataframe tbody tr th:only-of-type {\n",
       "        vertical-align: middle;\n",
       "    }\n",
       "\n",
       "    .dataframe tbody tr th {\n",
       "        vertical-align: top;\n",
       "    }\n",
       "\n",
       "    .dataframe thead th {\n",
       "        text-align: right;\n",
       "    }\n",
       "</style>\n",
       "<table border=\"1\" class=\"dataframe\">\n",
       "  <thead>\n",
       "    <tr style=\"text-align: right;\">\n",
       "      <th></th>\n",
       "      <th>wikidata</th>\n",
       "      <th>osmid</th>\n",
       "    </tr>\n",
       "  </thead>\n",
       "  <tbody>\n",
       "    <tr>\n",
       "      <th>0</th>\n",
       "      <td>Q60732601</td>\n",
       "      <td></td>\n",
       "    </tr>\n",
       "    <tr>\n",
       "      <th>1</th>\n",
       "      <td>Q29579930</td>\n",
       "      <td>913660002</td>\n",
       "    </tr>\n",
       "    <tr>\n",
       "      <th>2</th>\n",
       "      <td>Q10659042</td>\n",
       "      <td>12400357</td>\n",
       "    </tr>\n",
       "    <tr>\n",
       "      <th>3</th>\n",
       "      <td>Q10511301</td>\n",
       "      <td>1460544</td>\n",
       "    </tr>\n",
       "    <tr>\n",
       "      <th>4</th>\n",
       "      <td>Q27968545</td>\n",
       "      <td>102924516</td>\n",
       "    </tr>\n",
       "  </tbody>\n",
       "</table>\n",
       "</div>"
      ],
      "text/plain": [
       "    wikidata      osmid\n",
       "0  Q60732601           \n",
       "1  Q29579930  913660002\n",
       "2  Q10659042   12400357\n",
       "3  Q10511301    1460544\n",
       "4  Q27968545  102924516"
      ]
     },
     "execution_count": 20,
     "metadata": {},
     "output_type": "execute_result"
    }
   ],
   "source": [
    "OSMNature.head()"
   ]
  },
  {
   "cell_type": "code",
   "execution_count": 21,
   "id": "2f6f3fb0",
   "metadata": {},
   "outputs": [],
   "source": [
    "OSMNatureEmpty=OSMNature[(OSMNature['osmid']==\"\")]\n",
    "#OSMNatureEmpty.to_csv(\"WD - OSM Nature reserve missing.csv\")\n",
    "pd.Series(OSMNatureEmpty.wikidata.unique()).to_csv(\"WD - OSM Nature reserve missing.csv\")\n",
    "\n",
    "#OSMNatureEmpty"
   ]
  },
  {
   "cell_type": "code",
   "execution_count": 22,
   "id": "0325b013",
   "metadata": {},
   "outputs": [
    {
     "name": "stdout",
     "output_type": "stream",
     "text": [
      "* 20210616 Bathing water 3333 not OSM connected 2185\n",
      " * water connected 1324 not OSM connected 225\n",
      " * naturreserve connected 216 not OSM connected 27\n"
     ]
    }
   ],
   "source": [
    "print(\"*\", start_time.strftime(\"%Y%m%d\"),\"Bathing water\", WDBath.shape[0], \"not OSM connected\",OSMEmpty.shape[0]) \n",
    "print(\" * water connected\", WDSea.shape[0], \"not OSM connected\",OSMSeaEmpty.shape[0])\n",
    "print(\" * naturreserve connected\", OSMNature.shape[0], \"not OSM connected\",OSMNatureEmpty.shape[0])\n"
   ]
  },
  {
   "cell_type": "markdown",
   "id": "acb46511",
   "metadata": {},
   "source": [
    "Line for GITHUB summary"
   ]
  },
  {
   "cell_type": "code",
   "execution_count": 23,
   "id": "e9902b84",
   "metadata": {},
   "outputs": [
    {
     "name": "stdout",
     "output_type": "stream",
     "text": [
      "ej kopplade 2185 vatten ej kopplade 225 , naturreservat ej kopplade 27\n"
     ]
    }
   ],
   "source": [
    "print(\"ej kopplade\",OSMEmpty.shape[0],\"vatten ej kopplade\", OSMSeaEmpty.shape[0], \\\n",
    "      \", naturreservat ej kopplade\",OSMNatureEmpty.shape[0])\n",
    "\n"
   ]
  },
  {
   "cell_type": "markdown",
   "id": "0c4d6920",
   "metadata": {},
   "source": [
    "Generate Markdown table eg.\n",
    "| 20210526     | 2802 | 2050 |1147 | 254 | 213| 84|\n"
   ]
  },
  {
   "cell_type": "code",
   "execution_count": 24,
   "id": "443cee0d",
   "metadata": {},
   "outputs": [
    {
     "name": "stdout",
     "output_type": "stream",
     "text": [
      "| 20210616 | 3333 | 2172 | 1324 | 179 | 216 | 15\n"
     ]
    }
   ],
   "source": [
    "print(\"|\",start_time.strftime(\"%Y%m%d\"),\"|\", \\\n",
    "      WDBath.shape[0],\"|\",OSMEmpty.wikidata.nunique(),\"|\", \\\n",
    "      OSMSeatot.shape[0],\"|\", OSMSeaEmpty.wikidata.nunique(),\"|\", \\\n",
    "      OSMNature.shape[0],\"|\", OSMNatureEmpty.wikidata.nunique())\n"
   ]
  },
  {
   "cell_type": "code",
   "execution_count": 25,
   "id": "3ba992e0",
   "metadata": {},
   "outputs": [
    {
     "name": "stdout",
     "output_type": "stream",
     "text": [
      "Ended:  2021-06-16 12:15:21.961166\n",
      "Time elapsed (hh:mm:ss.ms) 0:08:18.545846\n"
     ]
    }
   ],
   "source": [
    "end = datetime.now()\n",
    "print(\"Ended: \", end) \n",
    "print('Time elapsed (hh:mm:ss.ms) {}'.format(datetime.now() - start_time))"
   ]
  },
  {
   "cell_type": "code",
   "execution_count": null,
   "id": "0f37d30b",
   "metadata": {},
   "outputs": [],
   "source": []
  }
 ],
 "metadata": {
  "kernelspec": {
   "display_name": "Python 3",
   "language": "python",
   "name": "python3"
  },
  "language_info": {
   "codemirror_mode": {
    "name": "ipython",
    "version": 3
   },
   "file_extension": ".py",
   "mimetype": "text/x-python",
   "name": "python",
   "nbconvert_exporter": "python",
   "pygments_lexer": "ipython3",
   "version": "3.9.4"
  }
 },
 "nbformat": 4,
 "nbformat_minor": 5
}
